{
  "nbformat": 4,
  "nbformat_minor": 0,
  "metadata": {
    "kernelspec": {
      "display_name": "Python 3",
      "language": "python",
      "name": "python3"
    },
    "language_info": {
      "codemirror_mode": {
        "name": "ipython",
        "version": 3
      },
      "file_extension": ".py",
      "mimetype": "text/x-python",
      "name": "python",
      "nbconvert_exporter": "python",
      "pygments_lexer": "ipython3",
      "version": "3.7.6"
    },
    "colab": {
      "name": "Copy of classification_model_performance.ipynb",
      "provenance": []
    }
  },
  "cells": [
    {
      "cell_type": "markdown",
      "metadata": {
        "id": "k1xx5Hnnt5QZ"
      },
      "source": [
        "# Classification Model Performance"
      ]
    },
    {
      "cell_type": "code",
      "metadata": {
        "id": "G1mGRqfat9Me",
        "colab": {
          "base_uri": "https://localhost:8080/"
        },
        "outputId": "039fd844-4fa5-4ec6-9ce4-4a33250d6ac4"
      },
      "source": [
        "!git clone https://github.com/s7s/machine_learning_1.git\n",
        "%cd  machine_learning_1/classification_model_performance"
      ],
      "execution_count": 51,
      "outputs": [
        {
          "output_type": "stream",
          "name": "stdout",
          "text": [
            "Cloning into 'machine_learning_1'...\n",
            "remote: Enumerating objects: 259, done.\u001b[K\n",
            "remote: Counting objects:  14% (1/7)\u001b[K\rremote: Counting objects:  28% (2/7)\u001b[K\rremote: Counting objects:  42% (3/7)\u001b[K\rremote: Counting objects:  57% (4/7)\u001b[K\rremote: Counting objects:  71% (5/7)\u001b[K\rremote: Counting objects:  85% (6/7)\u001b[K\rremote: Counting objects: 100% (7/7)\u001b[K\rremote: Counting objects: 100% (7/7), done.\u001b[K\n",
            "remote: Compressing objects: 100% (6/6), done.\u001b[K\n",
            "remote: Total 259 (delta 2), reused 5 (delta 1), pack-reused 252\u001b[K\n",
            "Receiving objects: 100% (259/259), 41.18 MiB | 23.61 MiB/s, done.\n",
            "Resolving deltas: 100% (125/125), done.\n",
            "/content/machine_learning_1/classification_model_performance/machine_learning_1/classification_model_performance\n"
          ]
        }
      ]
    },
    {
      "cell_type": "code",
      "metadata": {
        "id": "yMucOMUDt5Qb"
      },
      "source": [
        "import pandas\n",
        "import matplotlib.pyplot as plt"
      ],
      "execution_count": 52,
      "outputs": []
    },
    {
      "cell_type": "markdown",
      "metadata": {
        "id": "bQ2NIzSQt5Qc"
      },
      "source": [
        "## Loading dataset\n",
        "\n",
        "First, we use pandas to load the dataset from a csv file."
      ]
    },
    {
      "cell_type": "code",
      "metadata": {
        "id": "Ejz9_M2pt5Qr",
        "colab": {
          "base_uri": "https://localhost:8080/",
          "height": 273
        },
        "outputId": "2c711ba0-5426-4190-a357-81533cbed82e"
      },
      "source": [
        "data = pandas.read_csv('./preprocessed_titanic_data.csv')\n",
        "data.head()"
      ],
      "execution_count": 53,
      "outputs": [
        {
          "output_type": "execute_result",
          "data": {
            "text/plain": [
              "   Survived  SibSp  Parch     Fare  Sex_female  Sex_male  Embarked_C  \\\n",
              "0         0      1      0   7.2500           0         1           0   \n",
              "1         1      1      0  71.2833           1         0           1   \n",
              "2         1      0      0   7.9250           1         0           0   \n",
              "3         1      1      0  53.1000           1         0           0   \n",
              "4         0      0      0   8.0500           0         1           0   \n",
              "\n",
              "   Embarked_Q  Embarked_S  Embarked_U  ...  Pclass_2  Pclass_3  \\\n",
              "0           0           1           0  ...         0         1   \n",
              "1           0           0           0  ...         0         0   \n",
              "2           0           1           0  ...         0         1   \n",
              "3           0           1           0  ...         0         0   \n",
              "4           0           1           0  ...         0         1   \n",
              "\n",
              "   Categorized_age_(0, 10]  Categorized_age_(10, 20]  \\\n",
              "0                        0                         0   \n",
              "1                        0                         0   \n",
              "2                        0                         0   \n",
              "3                        0                         0   \n",
              "4                        0                         0   \n",
              "\n",
              "   Categorized_age_(20, 30]  Categorized_age_(30, 40]  \\\n",
              "0                         1                         0   \n",
              "1                         0                         1   \n",
              "2                         1                         0   \n",
              "3                         0                         1   \n",
              "4                         0                         1   \n",
              "\n",
              "   Categorized_age_(40, 50]  Categorized_age_(50, 60]  \\\n",
              "0                         0                         0   \n",
              "1                         0                         0   \n",
              "2                         0                         0   \n",
              "3                         0                         0   \n",
              "4                         0                         0   \n",
              "\n",
              "   Categorized_age_(60, 70]  Categorized_age_(70, 80]  \n",
              "0                         0                         0  \n",
              "1                         0                         0  \n",
              "2                         0                         0  \n",
              "3                         0                         0  \n",
              "4                         0                         0  \n",
              "\n",
              "[5 rows x 21 columns]"
            ],
            "text/html": [
              "\n",
              "  <div id=\"df-4100ddca-f318-4421-814c-fca01b6ec136\" class=\"colab-df-container\">\n",
              "    <div>\n",
              "<style scoped>\n",
              "    .dataframe tbody tr th:only-of-type {\n",
              "        vertical-align: middle;\n",
              "    }\n",
              "\n",
              "    .dataframe tbody tr th {\n",
              "        vertical-align: top;\n",
              "    }\n",
              "\n",
              "    .dataframe thead th {\n",
              "        text-align: right;\n",
              "    }\n",
              "</style>\n",
              "<table border=\"1\" class=\"dataframe\">\n",
              "  <thead>\n",
              "    <tr style=\"text-align: right;\">\n",
              "      <th></th>\n",
              "      <th>Survived</th>\n",
              "      <th>SibSp</th>\n",
              "      <th>Parch</th>\n",
              "      <th>Fare</th>\n",
              "      <th>Sex_female</th>\n",
              "      <th>Sex_male</th>\n",
              "      <th>Embarked_C</th>\n",
              "      <th>Embarked_Q</th>\n",
              "      <th>Embarked_S</th>\n",
              "      <th>Embarked_U</th>\n",
              "      <th>...</th>\n",
              "      <th>Pclass_2</th>\n",
              "      <th>Pclass_3</th>\n",
              "      <th>Categorized_age_(0, 10]</th>\n",
              "      <th>Categorized_age_(10, 20]</th>\n",
              "      <th>Categorized_age_(20, 30]</th>\n",
              "      <th>Categorized_age_(30, 40]</th>\n",
              "      <th>Categorized_age_(40, 50]</th>\n",
              "      <th>Categorized_age_(50, 60]</th>\n",
              "      <th>Categorized_age_(60, 70]</th>\n",
              "      <th>Categorized_age_(70, 80]</th>\n",
              "    </tr>\n",
              "  </thead>\n",
              "  <tbody>\n",
              "    <tr>\n",
              "      <th>0</th>\n",
              "      <td>0</td>\n",
              "      <td>1</td>\n",
              "      <td>0</td>\n",
              "      <td>7.2500</td>\n",
              "      <td>0</td>\n",
              "      <td>1</td>\n",
              "      <td>0</td>\n",
              "      <td>0</td>\n",
              "      <td>1</td>\n",
              "      <td>0</td>\n",
              "      <td>...</td>\n",
              "      <td>0</td>\n",
              "      <td>1</td>\n",
              "      <td>0</td>\n",
              "      <td>0</td>\n",
              "      <td>1</td>\n",
              "      <td>0</td>\n",
              "      <td>0</td>\n",
              "      <td>0</td>\n",
              "      <td>0</td>\n",
              "      <td>0</td>\n",
              "    </tr>\n",
              "    <tr>\n",
              "      <th>1</th>\n",
              "      <td>1</td>\n",
              "      <td>1</td>\n",
              "      <td>0</td>\n",
              "      <td>71.2833</td>\n",
              "      <td>1</td>\n",
              "      <td>0</td>\n",
              "      <td>1</td>\n",
              "      <td>0</td>\n",
              "      <td>0</td>\n",
              "      <td>0</td>\n",
              "      <td>...</td>\n",
              "      <td>0</td>\n",
              "      <td>0</td>\n",
              "      <td>0</td>\n",
              "      <td>0</td>\n",
              "      <td>0</td>\n",
              "      <td>1</td>\n",
              "      <td>0</td>\n",
              "      <td>0</td>\n",
              "      <td>0</td>\n",
              "      <td>0</td>\n",
              "    </tr>\n",
              "    <tr>\n",
              "      <th>2</th>\n",
              "      <td>1</td>\n",
              "      <td>0</td>\n",
              "      <td>0</td>\n",
              "      <td>7.9250</td>\n",
              "      <td>1</td>\n",
              "      <td>0</td>\n",
              "      <td>0</td>\n",
              "      <td>0</td>\n",
              "      <td>1</td>\n",
              "      <td>0</td>\n",
              "      <td>...</td>\n",
              "      <td>0</td>\n",
              "      <td>1</td>\n",
              "      <td>0</td>\n",
              "      <td>0</td>\n",
              "      <td>1</td>\n",
              "      <td>0</td>\n",
              "      <td>0</td>\n",
              "      <td>0</td>\n",
              "      <td>0</td>\n",
              "      <td>0</td>\n",
              "    </tr>\n",
              "    <tr>\n",
              "      <th>3</th>\n",
              "      <td>1</td>\n",
              "      <td>1</td>\n",
              "      <td>0</td>\n",
              "      <td>53.1000</td>\n",
              "      <td>1</td>\n",
              "      <td>0</td>\n",
              "      <td>0</td>\n",
              "      <td>0</td>\n",
              "      <td>1</td>\n",
              "      <td>0</td>\n",
              "      <td>...</td>\n",
              "      <td>0</td>\n",
              "      <td>0</td>\n",
              "      <td>0</td>\n",
              "      <td>0</td>\n",
              "      <td>0</td>\n",
              "      <td>1</td>\n",
              "      <td>0</td>\n",
              "      <td>0</td>\n",
              "      <td>0</td>\n",
              "      <td>0</td>\n",
              "    </tr>\n",
              "    <tr>\n",
              "      <th>4</th>\n",
              "      <td>0</td>\n",
              "      <td>0</td>\n",
              "      <td>0</td>\n",
              "      <td>8.0500</td>\n",
              "      <td>0</td>\n",
              "      <td>1</td>\n",
              "      <td>0</td>\n",
              "      <td>0</td>\n",
              "      <td>1</td>\n",
              "      <td>0</td>\n",
              "      <td>...</td>\n",
              "      <td>0</td>\n",
              "      <td>1</td>\n",
              "      <td>0</td>\n",
              "      <td>0</td>\n",
              "      <td>0</td>\n",
              "      <td>1</td>\n",
              "      <td>0</td>\n",
              "      <td>0</td>\n",
              "      <td>0</td>\n",
              "      <td>0</td>\n",
              "    </tr>\n",
              "  </tbody>\n",
              "</table>\n",
              "<p>5 rows × 21 columns</p>\n",
              "</div>\n",
              "    <div class=\"colab-df-buttons\">\n",
              "\n",
              "  <div class=\"colab-df-container\">\n",
              "    <button class=\"colab-df-convert\" onclick=\"convertToInteractive('df-4100ddca-f318-4421-814c-fca01b6ec136')\"\n",
              "            title=\"Convert this dataframe to an interactive table.\"\n",
              "            style=\"display:none;\">\n",
              "\n",
              "  <svg xmlns=\"http://www.w3.org/2000/svg\" height=\"24px\" viewBox=\"0 -960 960 960\">\n",
              "    <path d=\"M120-120v-720h720v720H120Zm60-500h600v-160H180v160Zm220 220h160v-160H400v160Zm0 220h160v-160H400v160ZM180-400h160v-160H180v160Zm440 0h160v-160H620v160ZM180-180h160v-160H180v160Zm440 0h160v-160H620v160Z\"/>\n",
              "  </svg>\n",
              "    </button>\n",
              "\n",
              "  <style>\n",
              "    .colab-df-container {\n",
              "      display:flex;\n",
              "      gap: 12px;\n",
              "    }\n",
              "\n",
              "    .colab-df-convert {\n",
              "      background-color: #E8F0FE;\n",
              "      border: none;\n",
              "      border-radius: 50%;\n",
              "      cursor: pointer;\n",
              "      display: none;\n",
              "      fill: #1967D2;\n",
              "      height: 32px;\n",
              "      padding: 0 0 0 0;\n",
              "      width: 32px;\n",
              "    }\n",
              "\n",
              "    .colab-df-convert:hover {\n",
              "      background-color: #E2EBFA;\n",
              "      box-shadow: 0px 1px 2px rgba(60, 64, 67, 0.3), 0px 1px 3px 1px rgba(60, 64, 67, 0.15);\n",
              "      fill: #174EA6;\n",
              "    }\n",
              "\n",
              "    .colab-df-buttons div {\n",
              "      margin-bottom: 4px;\n",
              "    }\n",
              "\n",
              "    [theme=dark] .colab-df-convert {\n",
              "      background-color: #3B4455;\n",
              "      fill: #D2E3FC;\n",
              "    }\n",
              "\n",
              "    [theme=dark] .colab-df-convert:hover {\n",
              "      background-color: #434B5C;\n",
              "      box-shadow: 0px 1px 3px 1px rgba(0, 0, 0, 0.15);\n",
              "      filter: drop-shadow(0px 1px 2px rgba(0, 0, 0, 0.3));\n",
              "      fill: #FFFFFF;\n",
              "    }\n",
              "  </style>\n",
              "\n",
              "    <script>\n",
              "      const buttonEl =\n",
              "        document.querySelector('#df-4100ddca-f318-4421-814c-fca01b6ec136 button.colab-df-convert');\n",
              "      buttonEl.style.display =\n",
              "        google.colab.kernel.accessAllowed ? 'block' : 'none';\n",
              "\n",
              "      async function convertToInteractive(key) {\n",
              "        const element = document.querySelector('#df-4100ddca-f318-4421-814c-fca01b6ec136');\n",
              "        const dataTable =\n",
              "          await google.colab.kernel.invokeFunction('convertToInteractive',\n",
              "                                                    [key], {});\n",
              "        if (!dataTable) return;\n",
              "\n",
              "        const docLinkHtml = 'Like what you see? Visit the ' +\n",
              "          '<a target=\"_blank\" href=https://colab.research.google.com/notebooks/data_table.ipynb>data table notebook</a>'\n",
              "          + ' to learn more about interactive tables.';\n",
              "        element.innerHTML = '';\n",
              "        dataTable['output_type'] = 'display_data';\n",
              "        await google.colab.output.renderOutput(dataTable, element);\n",
              "        const docLink = document.createElement('div');\n",
              "        docLink.innerHTML = docLinkHtml;\n",
              "        element.appendChild(docLink);\n",
              "      }\n",
              "    </script>\n",
              "  </div>\n",
              "\n",
              "\n",
              "<div id=\"df-c393818f-e37d-4191-997f-6666d0b2b09b\">\n",
              "  <button class=\"colab-df-quickchart\" onclick=\"quickchart('df-c393818f-e37d-4191-997f-6666d0b2b09b')\"\n",
              "            title=\"Suggest charts\"\n",
              "            style=\"display:none;\">\n",
              "\n",
              "<svg xmlns=\"http://www.w3.org/2000/svg\" height=\"24px\"viewBox=\"0 0 24 24\"\n",
              "     width=\"24px\">\n",
              "    <g>\n",
              "        <path d=\"M19 3H5c-1.1 0-2 .9-2 2v14c0 1.1.9 2 2 2h14c1.1 0 2-.9 2-2V5c0-1.1-.9-2-2-2zM9 17H7v-7h2v7zm4 0h-2V7h2v10zm4 0h-2v-4h2v4z\"/>\n",
              "    </g>\n",
              "</svg>\n",
              "  </button>\n",
              "\n",
              "<style>\n",
              "  .colab-df-quickchart {\n",
              "      --bg-color: #E8F0FE;\n",
              "      --fill-color: #1967D2;\n",
              "      --hover-bg-color: #E2EBFA;\n",
              "      --hover-fill-color: #174EA6;\n",
              "      --disabled-fill-color: #AAA;\n",
              "      --disabled-bg-color: #DDD;\n",
              "  }\n",
              "\n",
              "  [theme=dark] .colab-df-quickchart {\n",
              "      --bg-color: #3B4455;\n",
              "      --fill-color: #D2E3FC;\n",
              "      --hover-bg-color: #434B5C;\n",
              "      --hover-fill-color: #FFFFFF;\n",
              "      --disabled-bg-color: #3B4455;\n",
              "      --disabled-fill-color: #666;\n",
              "  }\n",
              "\n",
              "  .colab-df-quickchart {\n",
              "    background-color: var(--bg-color);\n",
              "    border: none;\n",
              "    border-radius: 50%;\n",
              "    cursor: pointer;\n",
              "    display: none;\n",
              "    fill: var(--fill-color);\n",
              "    height: 32px;\n",
              "    padding: 0;\n",
              "    width: 32px;\n",
              "  }\n",
              "\n",
              "  .colab-df-quickchart:hover {\n",
              "    background-color: var(--hover-bg-color);\n",
              "    box-shadow: 0 1px 2px rgba(60, 64, 67, 0.3), 0 1px 3px 1px rgba(60, 64, 67, 0.15);\n",
              "    fill: var(--button-hover-fill-color);\n",
              "  }\n",
              "\n",
              "  .colab-df-quickchart-complete:disabled,\n",
              "  .colab-df-quickchart-complete:disabled:hover {\n",
              "    background-color: var(--disabled-bg-color);\n",
              "    fill: var(--disabled-fill-color);\n",
              "    box-shadow: none;\n",
              "  }\n",
              "\n",
              "  .colab-df-spinner {\n",
              "    border: 2px solid var(--fill-color);\n",
              "    border-color: transparent;\n",
              "    border-bottom-color: var(--fill-color);\n",
              "    animation:\n",
              "      spin 1s steps(1) infinite;\n",
              "  }\n",
              "\n",
              "  @keyframes spin {\n",
              "    0% {\n",
              "      border-color: transparent;\n",
              "      border-bottom-color: var(--fill-color);\n",
              "      border-left-color: var(--fill-color);\n",
              "    }\n",
              "    20% {\n",
              "      border-color: transparent;\n",
              "      border-left-color: var(--fill-color);\n",
              "      border-top-color: var(--fill-color);\n",
              "    }\n",
              "    30% {\n",
              "      border-color: transparent;\n",
              "      border-left-color: var(--fill-color);\n",
              "      border-top-color: var(--fill-color);\n",
              "      border-right-color: var(--fill-color);\n",
              "    }\n",
              "    40% {\n",
              "      border-color: transparent;\n",
              "      border-right-color: var(--fill-color);\n",
              "      border-top-color: var(--fill-color);\n",
              "    }\n",
              "    60% {\n",
              "      border-color: transparent;\n",
              "      border-right-color: var(--fill-color);\n",
              "    }\n",
              "    80% {\n",
              "      border-color: transparent;\n",
              "      border-right-color: var(--fill-color);\n",
              "      border-bottom-color: var(--fill-color);\n",
              "    }\n",
              "    90% {\n",
              "      border-color: transparent;\n",
              "      border-bottom-color: var(--fill-color);\n",
              "    }\n",
              "  }\n",
              "</style>\n",
              "\n",
              "  <script>\n",
              "    async function quickchart(key) {\n",
              "      const quickchartButtonEl =\n",
              "        document.querySelector('#' + key + ' button');\n",
              "      quickchartButtonEl.disabled = true;  // To prevent multiple clicks.\n",
              "      quickchartButtonEl.classList.add('colab-df-spinner');\n",
              "      try {\n",
              "        const charts = await google.colab.kernel.invokeFunction(\n",
              "            'suggestCharts', [key], {});\n",
              "      } catch (error) {\n",
              "        console.error('Error during call to suggestCharts:', error);\n",
              "      }\n",
              "      quickchartButtonEl.classList.remove('colab-df-spinner');\n",
              "      quickchartButtonEl.classList.add('colab-df-quickchart-complete');\n",
              "    }\n",
              "    (() => {\n",
              "      let quickchartButtonEl =\n",
              "        document.querySelector('#df-c393818f-e37d-4191-997f-6666d0b2b09b button');\n",
              "      quickchartButtonEl.style.display =\n",
              "        google.colab.kernel.accessAllowed ? 'block' : 'none';\n",
              "    })();\n",
              "  </script>\n",
              "</div>\n",
              "\n",
              "    </div>\n",
              "  </div>\n"
            ],
            "application/vnd.google.colaboratory.intrinsic+json": {
              "type": "dataframe",
              "variable_name": "data"
            }
          },
          "metadata": {},
          "execution_count": 53
        }
      ]
    },
    {
      "cell_type": "markdown",
      "metadata": {
        "id": "nUwjAMGit5Qs"
      },
      "source": [
        "### Features-labels split and train-validation split"
      ]
    },
    {
      "cell_type": "code",
      "metadata": {
        "id": "Dwr-qv1Nt5Qs"
      },
      "source": [
        "features = data.drop([\"Survived\"], axis=1)\n",
        "labels = data[\"Survived\"]"
      ],
      "execution_count": 54,
      "outputs": []
    },
    {
      "cell_type": "code",
      "metadata": {
        "id": "iHa8SswXt5Qs"
      },
      "source": [
        "from sklearn.model_selection import train_test_split"
      ],
      "execution_count": 55,
      "outputs": []
    },
    {
      "cell_type": "code",
      "metadata": {
        "id": "TTFZuYFEt5Qs"
      },
      "source": [
        "# remark: we fix random_state the end, to make sure we always get the same split\n",
        "features_train, features_validation_test, labels_train, labels_validation_test = train_test_split(\n",
        "    features, labels, test_size=0.4, random_state=100)"
      ],
      "execution_count": 56,
      "outputs": []
    },
    {
      "cell_type": "code",
      "metadata": {
        "id": "Rzkz8cBQt5Qt"
      },
      "source": [
        "features_validation, features_test, labels_validation, labels_test = train_test_split(\n",
        "    features_validation_test, labels_validation_test, test_size=0.5, random_state=100)"
      ],
      "execution_count": 57,
      "outputs": []
    },
    {
      "cell_type": "code",
      "metadata": {
        "id": "2d6-n0b0t5Qt",
        "colab": {
          "base_uri": "https://localhost:8080/"
        },
        "outputId": "d3d8000f-8c0f-4338-83f5-0e1bc4847105"
      },
      "source": [
        "print(len(features_train))\n",
        "print(len(features_validation))\n",
        "print(len(features_test))\n",
        "print(len(labels_train))\n",
        "print(len(labels_validation))\n",
        "print(len(labels_test))"
      ],
      "execution_count": 58,
      "outputs": [
        {
          "output_type": "stream",
          "name": "stdout",
          "text": [
            "534\n",
            "178\n",
            "179\n",
            "534\n",
            "178\n",
            "179\n"
          ]
        }
      ]
    },
    {
      "cell_type": "markdown",
      "metadata": {
        "id": "gofLaM4Qt5Qt"
      },
      "source": [
        "### Training model on our dataset\n"
      ]
    },
    {
      "cell_type": "code",
      "metadata": {
        "id": "1O0OyklPt5Qt",
        "colab": {
          "base_uri": "https://localhost:8080/",
          "height": 213
        },
        "outputId": "396ccd3f-cd7f-4717-9e11-e2e56c08f62a"
      },
      "source": [
        "from sklearn.linear_model import LogisticRegression\n",
        "\n",
        "lr_model = LogisticRegression()\n",
        "lr_model.fit(features_train, labels_train)"
      ],
      "execution_count": 59,
      "outputs": [
        {
          "output_type": "stream",
          "name": "stderr",
          "text": [
            "/usr/local/lib/python3.10/dist-packages/sklearn/linear_model/_logistic.py:458: ConvergenceWarning: lbfgs failed to converge (status=1):\n",
            "STOP: TOTAL NO. of ITERATIONS REACHED LIMIT.\n",
            "\n",
            "Increase the number of iterations (max_iter) or scale the data as shown in:\n",
            "    https://scikit-learn.org/stable/modules/preprocessing.html\n",
            "Please also refer to the documentation for alternative solver options:\n",
            "    https://scikit-learn.org/stable/modules/linear_model.html#logistic-regression\n",
            "  n_iter_i = _check_optimize_result(\n"
          ]
        },
        {
          "output_type": "execute_result",
          "data": {
            "text/plain": [
              "LogisticRegression()"
            ],
            "text/html": [
              "<style>#sk-container-id-2 {color: black;background-color: white;}#sk-container-id-2 pre{padding: 0;}#sk-container-id-2 div.sk-toggleable {background-color: white;}#sk-container-id-2 label.sk-toggleable__label {cursor: pointer;display: block;width: 100%;margin-bottom: 0;padding: 0.3em;box-sizing: border-box;text-align: center;}#sk-container-id-2 label.sk-toggleable__label-arrow:before {content: \"▸\";float: left;margin-right: 0.25em;color: #696969;}#sk-container-id-2 label.sk-toggleable__label-arrow:hover:before {color: black;}#sk-container-id-2 div.sk-estimator:hover label.sk-toggleable__label-arrow:before {color: black;}#sk-container-id-2 div.sk-toggleable__content {max-height: 0;max-width: 0;overflow: hidden;text-align: left;background-color: #f0f8ff;}#sk-container-id-2 div.sk-toggleable__content pre {margin: 0.2em;color: black;border-radius: 0.25em;background-color: #f0f8ff;}#sk-container-id-2 input.sk-toggleable__control:checked~div.sk-toggleable__content {max-height: 200px;max-width: 100%;overflow: auto;}#sk-container-id-2 input.sk-toggleable__control:checked~label.sk-toggleable__label-arrow:before {content: \"▾\";}#sk-container-id-2 div.sk-estimator input.sk-toggleable__control:checked~label.sk-toggleable__label {background-color: #d4ebff;}#sk-container-id-2 div.sk-label input.sk-toggleable__control:checked~label.sk-toggleable__label {background-color: #d4ebff;}#sk-container-id-2 input.sk-hidden--visually {border: 0;clip: rect(1px 1px 1px 1px);clip: rect(1px, 1px, 1px, 1px);height: 1px;margin: -1px;overflow: hidden;padding: 0;position: absolute;width: 1px;}#sk-container-id-2 div.sk-estimator {font-family: monospace;background-color: #f0f8ff;border: 1px dotted black;border-radius: 0.25em;box-sizing: border-box;margin-bottom: 0.5em;}#sk-container-id-2 div.sk-estimator:hover {background-color: #d4ebff;}#sk-container-id-2 div.sk-parallel-item::after {content: \"\";width: 100%;border-bottom: 1px solid gray;flex-grow: 1;}#sk-container-id-2 div.sk-label:hover label.sk-toggleable__label {background-color: #d4ebff;}#sk-container-id-2 div.sk-serial::before {content: \"\";position: absolute;border-left: 1px solid gray;box-sizing: border-box;top: 0;bottom: 0;left: 50%;z-index: 0;}#sk-container-id-2 div.sk-serial {display: flex;flex-direction: column;align-items: center;background-color: white;padding-right: 0.2em;padding-left: 0.2em;position: relative;}#sk-container-id-2 div.sk-item {position: relative;z-index: 1;}#sk-container-id-2 div.sk-parallel {display: flex;align-items: stretch;justify-content: center;background-color: white;position: relative;}#sk-container-id-2 div.sk-item::before, #sk-container-id-2 div.sk-parallel-item::before {content: \"\";position: absolute;border-left: 1px solid gray;box-sizing: border-box;top: 0;bottom: 0;left: 50%;z-index: -1;}#sk-container-id-2 div.sk-parallel-item {display: flex;flex-direction: column;z-index: 1;position: relative;background-color: white;}#sk-container-id-2 div.sk-parallel-item:first-child::after {align-self: flex-end;width: 50%;}#sk-container-id-2 div.sk-parallel-item:last-child::after {align-self: flex-start;width: 50%;}#sk-container-id-2 div.sk-parallel-item:only-child::after {width: 0;}#sk-container-id-2 div.sk-dashed-wrapped {border: 1px dashed gray;margin: 0 0.4em 0.5em 0.4em;box-sizing: border-box;padding-bottom: 0.4em;background-color: white;}#sk-container-id-2 div.sk-label label {font-family: monospace;font-weight: bold;display: inline-block;line-height: 1.2em;}#sk-container-id-2 div.sk-label-container {text-align: center;}#sk-container-id-2 div.sk-container {/* jupyter's `normalize.less` sets `[hidden] { display: none; }` but bootstrap.min.css set `[hidden] { display: none !important; }` so we also need the `!important` here to be able to override the default hidden behavior on the sphinx rendered scikit-learn.org. See: https://github.com/scikit-learn/scikit-learn/issues/21755 */display: inline-block !important;position: relative;}#sk-container-id-2 div.sk-text-repr-fallback {display: none;}</style><div id=\"sk-container-id-2\" class=\"sk-top-container\"><div class=\"sk-text-repr-fallback\"><pre>LogisticRegression()</pre><b>In a Jupyter environment, please rerun this cell to show the HTML representation or trust the notebook. <br />On GitHub, the HTML representation is unable to render, please try loading this page with nbviewer.org.</b></div><div class=\"sk-container\" hidden><div class=\"sk-item\"><div class=\"sk-estimator sk-toggleable\"><input class=\"sk-toggleable__control sk-hidden--visually\" id=\"sk-estimator-id-2\" type=\"checkbox\" checked><label for=\"sk-estimator-id-2\" class=\"sk-toggleable__label sk-toggleable__label-arrow\">LogisticRegression</label><div class=\"sk-toggleable__content\"><pre>LogisticRegression()</pre></div></div></div></div></div>"
            ]
          },
          "metadata": {},
          "execution_count": 59
        }
      ]
    },
    {
      "cell_type": "markdown",
      "metadata": {
        "id": "EyCPB2Wdt5Qv"
      },
      "source": [
        "### Model Evaluation\n",
        "\n",
        "#### Accuracy"
      ]
    },
    {
      "cell_type": "code",
      "metadata": {
        "id": "XuMO4p7Ct5Qv",
        "colab": {
          "base_uri": "https://localhost:8080/"
        },
        "outputId": "12faca02-d2b3-4c6c-96d6-20b9c3864597"
      },
      "source": [
        "print(\"Scores of the model\")\n",
        "# use model score to print model accuracy\n",
        "lr_model.score(features_train, labels_train)"
      ],
      "execution_count": 60,
      "outputs": [
        {
          "output_type": "stream",
          "name": "stdout",
          "text": [
            "Scores of the model\n"
          ]
        },
        {
          "output_type": "execute_result",
          "data": {
            "text/plain": [
              "0.8352059925093633"
            ]
          },
          "metadata": {},
          "execution_count": 60
        }
      ]
    },
    {
      "cell_type": "markdown",
      "metadata": {
        "id": "awkH73B71LXk"
      },
      "source": [
        "#### False Positives, False Negatives and Confusion Matrix"
      ]
    },
    {
      "cell_type": "code",
      "metadata": {
        "id": "Nx6Dl63d1WKX",
        "colab": {
          "base_uri": "https://localhost:8080/",
          "height": 449
        },
        "outputId": "a70fd6b1-91fd-4de6-a939-416ef9904125"
      },
      "source": [
        "from sklearn.metrics import confusion_matrix, ConfusionMatrixDisplay\n",
        "# use sklearn confusion_matrix, ConfusionMatrixDisplay to plot the confusion matrix\n",
        "predictions = lr_model.predict(features_test)\n",
        "cm = confusion_matrix(labels_test, predictions)\n",
        "disp = ConfusionMatrixDisplay(confusion_matrix=cm)\n",
        "disp.plot()\n",
        "plt.show()"
      ],
      "execution_count": 61,
      "outputs": [
        {
          "output_type": "display_data",
          "data": {
            "text/plain": [
              "<Figure size 640x480 with 2 Axes>"
            ],
            "image/png": "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\n"
          },
          "metadata": {}
        }
      ]
    },
    {
      "cell_type": "markdown",
      "metadata": {
        "id": "7F8oCGoyt5Qv"
      },
      "source": [
        "#### Recall, Precision and F1-score"
      ]
    },
    {
      "cell_type": "code",
      "metadata": {
        "id": "UenvSyPZt5Qw",
        "colab": {
          "base_uri": "https://localhost:8080/"
        },
        "outputId": "51122567-b022-4999-db97-7f5de24322ba"
      },
      "source": [
        "from sklearn.metrics import f1_score,recall_score,precision_score\n",
        "# use sklearn f1_score,recall_score,precision_score to print the f1_score,recall_score,precision_score\n",
        "y_true = labels_test\n",
        "y_predict = lr_model.predict(features_test)\n",
        "#y_test = y_test\n",
        "print(f1_score(y_true, predictions, average=None))\n",
        "print(recall_score(y_true, predictions, average=None))\n",
        "print(precision_score(y_true, predictions, average=None))\n",
        "# don't use average parameter"
      ],
      "execution_count": 62,
      "outputs": [
        {
          "output_type": "stream",
          "name": "stdout",
          "text": [
            "[0.82524272 0.76315789]\n",
            "[0.88541667 0.69879518]\n",
            "[0.77272727 0.84057971]\n"
          ]
        }
      ]
    },
    {
      "cell_type": "markdown",
      "metadata": {
        "id": "1zLuCLSGCWA2"
      },
      "source": [
        "### ROC and AUC"
      ]
    },
    {
      "cell_type": "code",
      "source": [
        "from sklearn.metrics import plot_roc_curve\n",
        "# use sklearn plot_roc_curve to plot the ROC and AUC\n",
        from sklearn.metrics import RocCurveDisplay
        RocCurveDisplay.from_estimator(lr_model, features_validation, labels_validationt)
        plt.show()
      ],
      "metadata": {
        "id": "84BMJAGrYowr"
      },
      "execution_count": null,
      "outputs": []
    }
  ]
}
